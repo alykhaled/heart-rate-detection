{
 "cells": [
  {
   "cell_type": "code",
   "execution_count": 1,
   "metadata": {},
   "outputs": [],
   "source": [
    "import math\n",
    "import os\n",
    "\n",
    "import numpy as np\n",
    "import pandas as pd\n",
    "from scipy.signal import savgol_filter\n",
    "\n",
    "from band_pass_filtering import band_pass_filtering\n",
    "from compute_vitals import vitals\n",
    "from detect_apnea_events import apnea_events\n",
    "from detect_body_movements import detect_patterns\n",
    "from modwt_matlab_fft import modwt\n",
    "from modwt_mra_matlab_fft import modwtmra\n",
    "from remove_nonLinear_trend import remove_nonLinear_trend\n",
    "from data_subplot import data_subplot"
   ]
  },
  {
   "cell_type": "code",
   "execution_count": 4,
   "metadata": {},
   "outputs": [],
   "source": [
    "file = '../data/sample_data.csv'\n",
    "file\n",
    "if file.endswith(\".csv\"):\n",
    "    fileName = os.path.join(file)\n",
    "    if os.stat(fileName).st_size != 0:\n",
    "        rawData = pd.read_csv(fileName, sep=\",\", header=None, skiprows=1).values\n",
    "        utc_time = rawData[:, 0]\n",
    "        data_stream = rawData[:, 1]\n",
    "\n",
    "        start_point, end_point, window_shift, fs = 0, 500, 500, 50\n",
    "        # ==========================================================================================================\n",
    "        data_stream, utc_time = detect_patterns(start_point, end_point, window_shift, data_stream, utc_time, plot=1)\n",
    "        \n",
    "        data_stream"
   ]
  }
 ],
 "metadata": {
  "kernelspec": {
   "display_name": "Python 3",
   "language": "python",
   "name": "python3"
  },
  "language_info": {
   "codemirror_mode": {
    "name": "ipython",
    "version": 3
   },
   "file_extension": ".py",
   "mimetype": "text/x-python",
   "name": "python",
   "nbconvert_exporter": "python",
   "pygments_lexer": "ipython3",
   "version": "3.10.2"
  },
  "orig_nbformat": 4,
  "vscode": {
   "interpreter": {
    "hash": "beca8f58a87454cbbf496136778470153e37468d9551cf86484af7e240c0471c"
   }
  }
 },
 "nbformat": 4,
 "nbformat_minor": 2
}
